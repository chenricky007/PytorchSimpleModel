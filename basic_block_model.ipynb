{
 "cells": [
  {
   "cell_type": "code",
   "execution_count": 1,
   "id": "987a6af6-307e-4c51-806f-eed931cb8dea",
   "metadata": {},
   "outputs": [
    {
     "name": "stderr",
     "output_type": "stream",
     "text": [
      "C:\\Users\\User\\Anaconda3\\envs\\pytorch_py36\\lib\\site-packages\\numpy\\__init__.py:138: UserWarning: mkl-service package failed to import, therefore Intel(R) MKL initialization ensuring its correct out-of-the box operation under condition when Gnu OpenMP had already been loaded by Python process is not assured. Please install mkl-service package, see http://github.com/IntelPython/mkl-service\n",
      "  from . import _distributor_init\n"
     ]
    },
    {
     "name": "stdout",
     "output_type": "stream",
     "text": [
      "cuda\n"
     ]
    }
   ],
   "source": [
    "import torch\n",
    "from torchvision.datasets import ImageFolder\n",
    "from torch.utils.data import DataLoader\n",
    "from torchvision import transforms\n",
    "import torch.nn as nn\n",
    "import torch.nn.functional as F\n",
    "import torch.optim as optim\n",
    "\n",
    "CUDA = True\n",
    "device = torch.device(\"cuda\" if torch.cuda.is_available() else \"cpu\")\n",
    "print(device)\n",
    "\n",
    "batch_size = 256\n",
    "\n",
    "# 需要將輸入轉換為tensor,需加入transforms.ToTensor()\n",
    "\n",
    "train_transform = transforms.Compose([\n",
    "                  # transforms.ColorJitter(brightness=(0, 2), contrast=(0, 2), saturation=(0, 2), hue=(-0.1, 0.1)),\n",
    "                  transforms.RandomResizedCrop(size = (256,256),scale=(0.7, 1.0), ratio=(1.0, 1.0)),\n",
    "                  # transforms.RandomVerticalFlip(p = 0.5),\n",
    "                  transforms.RandomHorizontalFlip(p = 0.5),\n",
    "                  transforms.Resize((256, 256)),\n",
    "                  transforms.ToTensor(),\n",
    "                  transforms.Normalize([0.485, 0.456, 0.406], [0.229, 0.224, 0.225])\n",
    "])\n",
    "\n",
    "val_transform = transforms.Compose([\n",
    "                  transforms.Resize((256, 256)),\n",
    "                  transforms.ToTensor(),\n",
    "                  transforms.Normalize([0.485, 0.456, 0.406], [0.229, 0.224, 0.225])\n",
    "])\n",
    "\n",
    "# 使用 torchvision.datasets.ImageFolder 讀取訓練資料\n",
    "image_folder = ImageFolder('D:/project/dataset/AnimalFaces/afhq/train', transform = train_transform, target_transform=None)\n",
    "# 建立 DataLoader，shuffle 為 True 表示會將資料進行打亂\n",
    "train_loader = DataLoader(dataset = image_folder, batch_size = batch_size, shuffle = True, num_workers = 2)\n",
    "\n",
    "# 使用 torchvision.datasets.ImageFolder 讀取測試資料\n",
    "val_image_folder = ImageFolder('D:/project/dataset/AnimalFaces/afhq/val', transform = val_transform, target_transform=None)\n",
    "# 建立 DataLoader，shuffle 為 False 表示不會將資料進行打亂\n",
    "val_loader = DataLoader(dataset = val_image_folder, batch_size = batch_size, shuffle = False, num_workers = 2)\n"
   ]
  },
  {
   "cell_type": "code",
   "execution_count": 2,
   "id": "e141ecb6-f8e8-4732-936b-00ca2778aa8f",
   "metadata": {},
   "outputs": [],
   "source": [
    "class Block(nn.Module):\n",
    "    def __init__(self, channels):\n",
    "        super(Block, self).__init__()\n",
    "        self.conv1 = nn.Conv2d(in_channels=channels, out_channels=channels//4, kernel_size=3, padding=1)\n",
    "        self.bn1 = nn.BatchNorm2d(channels//4)\n",
    "        self.conv2 = nn.Conv2d(in_channels=channels//4, out_channels=channels//4, kernel_size=3, padding=1)\n",
    "        self.bn2 = nn.BatchNorm2d(channels//4)\n",
    "        self.conv3 = nn.Conv2d(in_channels=channels//4, out_channels=channels, kernel_size=3, padding=1)\n",
    "        self.bn3 = nn.BatchNorm2d(channels)\n",
    "\n",
    "    def forward(self, x):\n",
    "        x_residual = x\n",
    "        x = self.conv1(x)\n",
    "        x = self.bn1(x)\n",
    "        x = F.relu(x)\n",
    "        x = self.conv2(x)\n",
    "        x = self.bn2(x)\n",
    "        x = F.relu(x)\n",
    "        x = self.conv3(x)\n",
    "        x = self.bn3(x)\n",
    "        x = x_residual + x\n",
    "        x = F.relu(x)\n",
    "        return x"
   ]
  },
  {
   "cell_type": "code",
   "execution_count": 3,
   "id": "4ba7ec26-be37-49f8-b7e3-1b0d2fdc1e23",
   "metadata": {},
   "outputs": [],
   "source": [
    "class Model(nn.Module):\n",
    "    def __init__(self, Block):\n",
    "        super(Model, self).__init__()\n",
    "        self.conv1 = nn.Conv2d(in_channels=3, out_channels=64, kernel_size=4, padding=0, stride=4)\n",
    "        self.bn1 = nn.BatchNorm2d(64)\n",
    "        self.block1 = Block(64)\n",
    "        self.conv2 = nn.Conv2d(in_channels=64, out_channels=128, kernel_size=2, padding=0, stride=2)\n",
    "        self.bn2 = nn.BatchNorm2d(128)\n",
    "        self.block2 = Block(128)\n",
    "        self.conv3 = nn.Conv2d(in_channels=128, out_channels=256, kernel_size=2, padding=0, stride=2)\n",
    "        self.bn3 = nn.BatchNorm2d(256)\n",
    "        self.block3 = Block(256)\n",
    "        self.drop = nn.Dropout(p=0.5)\n",
    "        self.fc1 = nn.Linear(in_features=256, out_features=3)\n",
    "\n",
    "    def forward(self, x):\n",
    "        x = self.conv1(x)\n",
    "        x = self.bn1(x)\n",
    "        x = F.relu(x)\n",
    "        x = self.block1(x)\n",
    "        \n",
    "        x = self.conv2(x)\n",
    "        x = self.bn2(x)\n",
    "        x = F.relu(x)\n",
    "        x = self.block2(x)\n",
    "        \n",
    "        x = self.conv3(x)\n",
    "        x = self.bn3(x)\n",
    "        x = F.relu(x)\n",
    "        x = self.block3(x)\n",
    "        \n",
    "        x = F.max_pool2d(x, kernel_size=x.size()[2:])\n",
    "        x = torch.flatten(x, 1)\n",
    "        x = self.drop(x)\n",
    "        x = self.fc1(x)\n",
    "        return x\n",
    "\n",
    "model = Model(Block)\n",
    "# 若報錯 Input type (torch.cuda.FloatTensor) and weight type (torch.FloatTensor) should be the same\n",
    "# 需要將model轉換為使用GPU\n",
    "model = model.cuda()"
   ]
  },
  {
   "cell_type": "code",
   "execution_count": 4,
   "id": "5855a082-832e-4735-91b2-8b58ee454ec0",
   "metadata": {},
   "outputs": [],
   "source": [
    "criterion = nn.CrossEntropyLoss()\n",
    "optimizer = optim.SGD(model.parameters(), lr=0.1, momentum=0.9)\n"
   ]
  },
  {
   "cell_type": "code",
   "execution_count": null,
   "id": "db6a37b1-574f-4d6c-9467-dbabc8ad1316",
   "metadata": {},
   "outputs": [
    {
     "name": "stdout",
     "output_type": "stream",
     "text": [
      "train epoch: 0 loss 7.563825932042352 acc 0.35614224137931033\n",
      "validation: loss 1.0862312018871307 acc 0.3561197916666667\n",
      "train epoch: 1 loss 1.0825009428221604 acc 0.3838900862068966\n",
      "validation: loss 1.0679274598757427 acc 0.4088541666666667\n",
      "train epoch: 2 loss 1.0726471769398656 acc 0.38894127155172414\n",
      "validation: loss 1.0600715080897014 acc 0.44140625\n",
      "train epoch: 3 loss 1.0725165872738278 acc 0.3863820043103448\n",
      "validation: loss 1.051840215921402 acc 0.4453125\n",
      "train epoch: 4 loss 1.0667609017470787 acc 0.3909617456896552\n",
      "validation: loss 1.0585270126660664 acc 0.39453125\n"
     ]
    }
   ],
   "source": [
    "for epoch in range(10):\n",
    "    train_loss = 0.0\n",
    "    train_acc = 0.0\n",
    "    train_step_count = 0.0\n",
    "    model.train()\n",
    "    for batch_idx, (data, target) in enumerate(train_loader):\n",
    "        # data, target = Variable(data), Variable(target)\n",
    "        \n",
    "        if CUDA:\n",
    "            data, target = data.cuda(), target.cuda()\n",
    "            \n",
    "        # data = data.to(device)\n",
    "        # target = target.to(device)\n",
    "\n",
    "        # clear gradient\n",
    "        optimizer.zero_grad()\n",
    "\n",
    "        # Forward propagation\n",
    "        output = model(data)\n",
    "        loss = criterion(output, target)\n",
    "\n",
    "        # Calculate gradients\n",
    "        loss.backward()\n",
    "\n",
    "        # Update parameters\n",
    "        optimizer.step()\n",
    "\n",
    "        predicted = torch.max(output.data, 1)[1]\n",
    "        train_loss += loss.item()\n",
    "        train_acc += torch.sum(predicted == target, dtype = torch.float32).item()/batch_size\n",
    "        train_step_count += 1.0\n",
    "        \n",
    "    print('train epoch:', epoch, 'loss', train_loss/train_step_count, 'acc', train_acc/train_step_count)\n",
    "            \n",
    "    val_loss = 0.0\n",
    "    val_acc = 0.0\n",
    "    val_step_count = 0.0\n",
    "    model.eval()\n",
    "    with torch.no_grad():\n",
    "        for val_batch_idx, (val_data, val_target) in enumerate(val_loader):\n",
    "            if CUDA:\n",
    "                val_data, val_target = val_data.cuda(), val_target.cuda()\n",
    "            val_output = model(val_data)\n",
    "            val_predicted = torch.max(val_output.data, 1)[1]\n",
    "            val_loss += criterion(val_output, val_target).item()\n",
    "            val_acc += torch.sum(val_predicted == val_target, dtype = torch.float32).item()/batch_size\n",
    "            val_step_count += 1.0\n",
    "        \n",
    "    print('validation:', 'loss', val_loss/val_step_count, 'acc', val_acc/val_step_count)\n",
    "        "
   ]
  },
  {
   "cell_type": "code",
   "execution_count": null,
   "id": "97ee4806-e155-4557-8de8-db3e5ff09640",
   "metadata": {},
   "outputs": [],
   "source": [
    "torch.save(model.state_dict(), 'model_weights.pth')\n"
   ]
  },
  {
   "cell_type": "code",
   "execution_count": null,
   "id": "d0186527-ac36-4cec-89c6-aea9b4b2fcd4",
   "metadata": {},
   "outputs": [],
   "source": [
    "# 讀取權重\n",
    "model.load_state_dict(torch.load('model_weights.pth'))\n",
    "\n",
    "train_acc = 0.0\n",
    "train_step_count = 0.0\n",
    "model.eval()\n",
    "with torch.no_grad():\n",
    "    for train_batch_idx, (train_data, train_target) in enumerate(train_loader):\n",
    "        if CUDA:\n",
    "            train_data, train_target = train_data.cuda(), train_target.cuda()\n",
    "        train_output = model(train_data)\n",
    "        train_predicted = torch.max(train_output.data, 1)[1]\n",
    "        train_acc += torch.sum(train_predicted == train_target, dtype = torch.float32).item()/batch_size\n",
    "        train_step_count += 1.0\n",
    "\n",
    "print('train:', 'acc', train_acc/train_step_count)\n",
    "\n",
    "val_acc = 0.0\n",
    "val_step_count = 0.0\n",
    "model.eval()\n",
    "with torch.no_grad():\n",
    "    for val_batch_idx, (val_data, val_target) in enumerate(val_loader):\n",
    "        if CUDA:\n",
    "            val_data, val_target = val_data.cuda(), val_target.cuda()\n",
    "        val_output = model(val_data)\n",
    "        val_predicted = torch.max(val_output.data, 1)[1]\n",
    "        val_acc += torch.sum(val_predicted == val_target, dtype = torch.float32).item()/batch_size\n",
    "        val_step_count += 1.0\n",
    "\n",
    "print('validation:', 'acc', val_acc/val_step_count)"
   ]
  },
  {
   "cell_type": "code",
   "execution_count": 7,
   "id": "0e7a00f8-dacf-45fd-9640-50f05431c22b",
   "metadata": {},
   "outputs": [
    {
     "name": "stdout",
     "output_type": "stream",
     "text": [
      "train: acc 0.9824728260869565\n"
     ]
    }
   ],
   "source": []
  },
  {
   "cell_type": "code",
   "execution_count": 5,
   "id": "fe9a391b-08fe-475c-9057-c8c1a1e1f986",
   "metadata": {},
   "outputs": [
    {
     "name": "stderr",
     "output_type": "stream",
     "text": [
      "C:\\Users\\User\\Anaconda3\\envs\\pytorch_py36\\lib\\site-packages\\torch\\serialization.py:256: UserWarning: Couldn't retrieve source code for container of type Model. It won't be checked for correctness upon loading.\n",
      "  \"type \" + obj.__name__ + \". It won't be checked \"\n"
     ]
    }
   ],
   "source": [
    "# 儲存整個模型\n",
    "torch.save(model, 'model.pth')\n"
   ]
  }
 ],
 "metadata": {
  "kernelspec": {
   "display_name": "pytorch_py36",
   "language": "python",
   "name": "pytorch_py36"
  },
  "language_info": {
   "codemirror_mode": {
    "name": "ipython",
    "version": 3
   },
   "file_extension": ".py",
   "mimetype": "text/x-python",
   "name": "python",
   "nbconvert_exporter": "python",
   "pygments_lexer": "ipython3",
   "version": "3.6.13"
  }
 },
 "nbformat": 4,
 "nbformat_minor": 5
}
